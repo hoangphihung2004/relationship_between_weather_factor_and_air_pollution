{
 "cells": [
  {
   "cell_type": "code",
   "execution_count": 16,
   "id": "initial_id",
   "metadata": {
    "collapsed": true,
    "ExecuteTime": {
     "end_time": "2024-10-21T17:41:16.945121Z",
     "start_time": "2024-10-21T17:41:16.941087500Z"
    }
   },
   "outputs": [],
   "source": [
    "import pymysql\n",
    "import pandas as pd\n",
    "import numpy as np"
   ]
  },
  {
   "cell_type": "code",
   "execution_count": 17,
   "outputs": [
    {
     "data": {
      "text/plain": "       date_time  totalprecip_mm  avgvis_km  temp_c  wind_kph  pressure_in  \\\n0     2010-01-01            0.00        6.0    22.3      7.12        29.92   \n1     2010-01-02            3.40        4.7    22.2      8.15        29.93   \n2     2010-01-03            7.60        3.5    21.2      9.20        29.96   \n3     2010-01-04            0.00        9.3    21.9      6.77        29.86   \n4     2010-01-05            0.50       10.0    22.8      8.32        29.82   \n...          ...             ...        ...     ...       ...          ...   \n5374  2024-09-19           82.33        7.8    24.7     23.95        29.58   \n5375  2024-09-20          128.75        7.8    25.4     11.84        29.59   \n5376  2024-09-21           16.28        9.5    26.7      7.44        29.66   \n5377  2024-09-22          213.94        6.5    24.3     12.87        29.64   \n5378  2024-09-23           76.39        7.6    22.0     16.25        29.78   \n\n      humidity  \n0           88  \n1           93  \n2           94  \n3           87  \n4           81  \n...        ...  \n5374        92  \n5375        93  \n5376        87  \n5377        96  \n5378        94  \n\n[5379 rows x 7 columns]",
      "text/html": "<div>\n<style scoped>\n    .dataframe tbody tr th:only-of-type {\n        vertical-align: middle;\n    }\n\n    .dataframe tbody tr th {\n        vertical-align: top;\n    }\n\n    .dataframe thead th {\n        text-align: right;\n    }\n</style>\n<table border=\"1\" class=\"dataframe\">\n  <thead>\n    <tr style=\"text-align: right;\">\n      <th></th>\n      <th>date_time</th>\n      <th>totalprecip_mm</th>\n      <th>avgvis_km</th>\n      <th>temp_c</th>\n      <th>wind_kph</th>\n      <th>pressure_in</th>\n      <th>humidity</th>\n    </tr>\n  </thead>\n  <tbody>\n    <tr>\n      <th>0</th>\n      <td>2010-01-01</td>\n      <td>0.00</td>\n      <td>6.0</td>\n      <td>22.3</td>\n      <td>7.12</td>\n      <td>29.92</td>\n      <td>88</td>\n    </tr>\n    <tr>\n      <th>1</th>\n      <td>2010-01-02</td>\n      <td>3.40</td>\n      <td>4.7</td>\n      <td>22.2</td>\n      <td>8.15</td>\n      <td>29.93</td>\n      <td>93</td>\n    </tr>\n    <tr>\n      <th>2</th>\n      <td>2010-01-03</td>\n      <td>7.60</td>\n      <td>3.5</td>\n      <td>21.2</td>\n      <td>9.20</td>\n      <td>29.96</td>\n      <td>94</td>\n    </tr>\n    <tr>\n      <th>3</th>\n      <td>2010-01-04</td>\n      <td>0.00</td>\n      <td>9.3</td>\n      <td>21.9</td>\n      <td>6.77</td>\n      <td>29.86</td>\n      <td>87</td>\n    </tr>\n    <tr>\n      <th>4</th>\n      <td>2010-01-05</td>\n      <td>0.50</td>\n      <td>10.0</td>\n      <td>22.8</td>\n      <td>8.32</td>\n      <td>29.82</td>\n      <td>81</td>\n    </tr>\n    <tr>\n      <th>...</th>\n      <td>...</td>\n      <td>...</td>\n      <td>...</td>\n      <td>...</td>\n      <td>...</td>\n      <td>...</td>\n      <td>...</td>\n    </tr>\n    <tr>\n      <th>5374</th>\n      <td>2024-09-19</td>\n      <td>82.33</td>\n      <td>7.8</td>\n      <td>24.7</td>\n      <td>23.95</td>\n      <td>29.58</td>\n      <td>92</td>\n    </tr>\n    <tr>\n      <th>5375</th>\n      <td>2024-09-20</td>\n      <td>128.75</td>\n      <td>7.8</td>\n      <td>25.4</td>\n      <td>11.84</td>\n      <td>29.59</td>\n      <td>93</td>\n    </tr>\n    <tr>\n      <th>5376</th>\n      <td>2024-09-21</td>\n      <td>16.28</td>\n      <td>9.5</td>\n      <td>26.7</td>\n      <td>7.44</td>\n      <td>29.66</td>\n      <td>87</td>\n    </tr>\n    <tr>\n      <th>5377</th>\n      <td>2024-09-22</td>\n      <td>213.94</td>\n      <td>6.5</td>\n      <td>24.3</td>\n      <td>12.87</td>\n      <td>29.64</td>\n      <td>96</td>\n    </tr>\n    <tr>\n      <th>5378</th>\n      <td>2024-09-23</td>\n      <td>76.39</td>\n      <td>7.6</td>\n      <td>22.0</td>\n      <td>16.25</td>\n      <td>29.78</td>\n      <td>94</td>\n    </tr>\n  </tbody>\n</table>\n<p>5379 rows × 7 columns</p>\n</div>"
     },
     "execution_count": 17,
     "metadata": {},
     "output_type": "execute_result"
    }
   ],
   "source": [
    "weather = pd.read_csv(\"D:\\python\\project_weather_air_pollution\\data\\weather_data_collection.csv\")\n",
    "weather"
   ],
   "metadata": {
    "collapsed": false,
    "ExecuteTime": {
     "end_time": "2024-10-21T17:41:17.289317900Z",
     "start_time": "2024-10-21T17:41:17.252588200Z"
    }
   },
   "id": "4d6c813fb6027421"
  },
  {
   "cell_type": "code",
   "execution_count": 18,
   "outputs": [
    {
     "data": {
      "text/plain": "            date  pm2.5  pm10    o3   no2   so2    co\n0     2014-01-01    NaN   NaN   NaN   NaN   NaN   NaN\n1     2014-01-02    NaN  44.0  73.0  28.0  92.0  37.0\n2     2014-01-03  125.0  40.0  67.0  17.0  93.0  20.0\n3     2014-01-04  117.0  39.0  37.0  23.0  92.0  12.0\n4     2014-01-05  116.0   NaN   NaN   NaN   NaN   NaN\n...          ...    ...   ...   ...   ...   ...   ...\n3921  2024-09-26   19.0  11.0   NaN  19.0  46.0   2.0\n3922  2024-09-27   16.0  12.0   NaN  19.0  48.0   2.0\n3923  2024-09-28   17.0  16.0   NaN  19.0  49.0   2.0\n3924  2024-09-29   25.0  17.0   NaN  19.0  50.0   2.0\n3925  2024-09-30   26.0  22.0   NaN  19.0  51.0   2.0\n\n[3926 rows x 7 columns]",
      "text/html": "<div>\n<style scoped>\n    .dataframe tbody tr th:only-of-type {\n        vertical-align: middle;\n    }\n\n    .dataframe tbody tr th {\n        vertical-align: top;\n    }\n\n    .dataframe thead th {\n        text-align: right;\n    }\n</style>\n<table border=\"1\" class=\"dataframe\">\n  <thead>\n    <tr style=\"text-align: right;\">\n      <th></th>\n      <th>date</th>\n      <th>pm2.5</th>\n      <th>pm10</th>\n      <th>o3</th>\n      <th>no2</th>\n      <th>so2</th>\n      <th>co</th>\n    </tr>\n  </thead>\n  <tbody>\n    <tr>\n      <th>0</th>\n      <td>2014-01-01</td>\n      <td>NaN</td>\n      <td>NaN</td>\n      <td>NaN</td>\n      <td>NaN</td>\n      <td>NaN</td>\n      <td>NaN</td>\n    </tr>\n    <tr>\n      <th>1</th>\n      <td>2014-01-02</td>\n      <td>NaN</td>\n      <td>44.0</td>\n      <td>73.0</td>\n      <td>28.0</td>\n      <td>92.0</td>\n      <td>37.0</td>\n    </tr>\n    <tr>\n      <th>2</th>\n      <td>2014-01-03</td>\n      <td>125.0</td>\n      <td>40.0</td>\n      <td>67.0</td>\n      <td>17.0</td>\n      <td>93.0</td>\n      <td>20.0</td>\n    </tr>\n    <tr>\n      <th>3</th>\n      <td>2014-01-04</td>\n      <td>117.0</td>\n      <td>39.0</td>\n      <td>37.0</td>\n      <td>23.0</td>\n      <td>92.0</td>\n      <td>12.0</td>\n    </tr>\n    <tr>\n      <th>4</th>\n      <td>2014-01-05</td>\n      <td>116.0</td>\n      <td>NaN</td>\n      <td>NaN</td>\n      <td>NaN</td>\n      <td>NaN</td>\n      <td>NaN</td>\n    </tr>\n    <tr>\n      <th>...</th>\n      <td>...</td>\n      <td>...</td>\n      <td>...</td>\n      <td>...</td>\n      <td>...</td>\n      <td>...</td>\n      <td>...</td>\n    </tr>\n    <tr>\n      <th>3921</th>\n      <td>2024-09-26</td>\n      <td>19.0</td>\n      <td>11.0</td>\n      <td>NaN</td>\n      <td>19.0</td>\n      <td>46.0</td>\n      <td>2.0</td>\n    </tr>\n    <tr>\n      <th>3922</th>\n      <td>2024-09-27</td>\n      <td>16.0</td>\n      <td>12.0</td>\n      <td>NaN</td>\n      <td>19.0</td>\n      <td>48.0</td>\n      <td>2.0</td>\n    </tr>\n    <tr>\n      <th>3923</th>\n      <td>2024-09-28</td>\n      <td>17.0</td>\n      <td>16.0</td>\n      <td>NaN</td>\n      <td>19.0</td>\n      <td>49.0</td>\n      <td>2.0</td>\n    </tr>\n    <tr>\n      <th>3924</th>\n      <td>2024-09-29</td>\n      <td>25.0</td>\n      <td>17.0</td>\n      <td>NaN</td>\n      <td>19.0</td>\n      <td>50.0</td>\n      <td>2.0</td>\n    </tr>\n    <tr>\n      <th>3925</th>\n      <td>2024-09-30</td>\n      <td>26.0</td>\n      <td>22.0</td>\n      <td>NaN</td>\n      <td>19.0</td>\n      <td>51.0</td>\n      <td>2.0</td>\n    </tr>\n  </tbody>\n</table>\n<p>3926 rows × 7 columns</p>\n</div>"
     },
     "execution_count": 18,
     "metadata": {},
     "output_type": "execute_result"
    }
   ],
   "source": [
    "air = pd.read_csv(\"D://python//project_weather_air_pollution//data//air_pollution_data.csv\")\n",
    "air"
   ],
   "metadata": {
    "collapsed": false,
    "ExecuteTime": {
     "end_time": "2024-10-21T17:41:17.695638700Z",
     "start_time": "2024-10-21T17:41:17.668913Z"
    }
   },
   "id": "1504151b3eaf1a04"
  },
  {
   "cell_type": "code",
   "execution_count": 19,
   "outputs": [
    {
     "data": {
      "text/plain": "     O3  date_time\n0    72 2024-08-22\n1    68 2024-08-21\n2    59 2024-08-20\n3    68 2024-08-19\n4    79 2024-08-18\n..   ..        ...\n119  55 2024-04-25\n120  53 2024-04-24\n121  57 2024-04-23\n122  56 2024-04-22\n123  54 2024-04-21\n\n[124 rows x 2 columns]",
      "text/html": "<div>\n<style scoped>\n    .dataframe tbody tr th:only-of-type {\n        vertical-align: middle;\n    }\n\n    .dataframe tbody tr th {\n        vertical-align: top;\n    }\n\n    .dataframe thead th {\n        text-align: right;\n    }\n</style>\n<table border=\"1\" class=\"dataframe\">\n  <thead>\n    <tr style=\"text-align: right;\">\n      <th></th>\n      <th>O3</th>\n      <th>date_time</th>\n    </tr>\n  </thead>\n  <tbody>\n    <tr>\n      <th>0</th>\n      <td>72</td>\n      <td>2024-08-22</td>\n    </tr>\n    <tr>\n      <th>1</th>\n      <td>68</td>\n      <td>2024-08-21</td>\n    </tr>\n    <tr>\n      <th>2</th>\n      <td>59</td>\n      <td>2024-08-20</td>\n    </tr>\n    <tr>\n      <th>3</th>\n      <td>68</td>\n      <td>2024-08-19</td>\n    </tr>\n    <tr>\n      <th>4</th>\n      <td>79</td>\n      <td>2024-08-18</td>\n    </tr>\n    <tr>\n      <th>...</th>\n      <td>...</td>\n      <td>...</td>\n    </tr>\n    <tr>\n      <th>119</th>\n      <td>55</td>\n      <td>2024-04-25</td>\n    </tr>\n    <tr>\n      <th>120</th>\n      <td>53</td>\n      <td>2024-04-24</td>\n    </tr>\n    <tr>\n      <th>121</th>\n      <td>57</td>\n      <td>2024-04-23</td>\n    </tr>\n    <tr>\n      <th>122</th>\n      <td>56</td>\n      <td>2024-04-22</td>\n    </tr>\n    <tr>\n      <th>123</th>\n      <td>54</td>\n      <td>2024-04-21</td>\n    </tr>\n  </tbody>\n</table>\n<p>124 rows × 2 columns</p>\n</div>"
     },
     "execution_count": 19,
     "metadata": {},
     "output_type": "execute_result"
    }
   ],
   "source": [
    "o3 = pd.read_csv(\"D:\\python\\project_weather_air_pollution\\data\\o3_data_pandas.csv\")\n",
    "o3['date_string_modified'] = o3['Day'].apply(lambda x: ' '.join(x.split()[1:3]) + ' 2024')\n",
    "o3['date_time'] = pd.to_datetime(o3['date_string_modified'], format='%d %b %Y')\n",
    "o3.drop(columns=[\"Day\", \"date_string_modified\"], inplace=True)\n",
    "o3"
   ],
   "metadata": {
    "collapsed": false,
    "ExecuteTime": {
     "end_time": "2024-10-21T17:41:18.183693300Z",
     "start_time": "2024-10-21T17:41:18.152105300Z"
    }
   },
   "id": "dc4d3275af0c4b8f"
  },
  {
   "cell_type": "code",
   "execution_count": 20,
   "outputs": [
    {
     "data": {
      "text/plain": "      date_time  totalprecip_mm  avgvis_km  temp_c  wind_kph  pressure_in  \\\n0    2010-01-01             0.0        6.0    22.3      7.12        29.92   \n1    2010-01-02             3.4        4.7    22.2      8.15        29.93   \n2    2010-01-03             7.6        3.5    21.2      9.20        29.96   \n3    2010-01-04             0.0        9.3    21.9      6.77        29.86   \n4    2010-01-05             0.5       10.0    22.8      8.32        29.82   \n...         ...             ...        ...     ...       ...          ...   \n5382        NaT             NaN        NaN     NaN       NaN          NaN   \n5383        NaT             NaN        NaN     NaN       NaN          NaN   \n5384        NaT             NaN        NaN     NaN       NaN          NaN   \n5385        NaT             NaN        NaN     NaN       NaN          NaN   \n5386        NaT             NaN        NaN     NaN       NaN          NaN   \n\n      humidity        date  pm2.5  pm10  o3   no2   so2   co  \n0         88.0         NaN    NaN   NaN NaN   NaN   NaN  NaN  \n1         93.0         NaN    NaN   NaN NaN   NaN   NaN  NaN  \n2         94.0         NaN    NaN   NaN NaN   NaN   NaN  NaN  \n3         87.0         NaN    NaN   NaN NaN   NaN   NaN  NaN  \n4         81.0         NaN    NaN   NaN NaN   NaN   NaN  NaN  \n...        ...         ...    ...   ...  ..   ...   ...  ...  \n5382       NaN  2024-09-26   19.0  11.0 NaN  19.0  46.0  2.0  \n5383       NaN  2024-09-27   16.0  12.0 NaN  19.0  48.0  2.0  \n5384       NaN  2024-09-28   17.0  16.0 NaN  19.0  49.0  2.0  \n5385       NaN  2024-09-29   25.0  17.0 NaN  19.0  50.0  2.0  \n5386       NaN  2024-09-30   26.0  22.0 NaN  19.0  51.0  2.0  \n\n[5387 rows x 14 columns]",
      "text/html": "<div>\n<style scoped>\n    .dataframe tbody tr th:only-of-type {\n        vertical-align: middle;\n    }\n\n    .dataframe tbody tr th {\n        vertical-align: top;\n    }\n\n    .dataframe thead th {\n        text-align: right;\n    }\n</style>\n<table border=\"1\" class=\"dataframe\">\n  <thead>\n    <tr style=\"text-align: right;\">\n      <th></th>\n      <th>date_time</th>\n      <th>totalprecip_mm</th>\n      <th>avgvis_km</th>\n      <th>temp_c</th>\n      <th>wind_kph</th>\n      <th>pressure_in</th>\n      <th>humidity</th>\n      <th>date</th>\n      <th>pm2.5</th>\n      <th>pm10</th>\n      <th>o3</th>\n      <th>no2</th>\n      <th>so2</th>\n      <th>co</th>\n    </tr>\n  </thead>\n  <tbody>\n    <tr>\n      <th>0</th>\n      <td>2010-01-01</td>\n      <td>0.0</td>\n      <td>6.0</td>\n      <td>22.3</td>\n      <td>7.12</td>\n      <td>29.92</td>\n      <td>88.0</td>\n      <td>NaN</td>\n      <td>NaN</td>\n      <td>NaN</td>\n      <td>NaN</td>\n      <td>NaN</td>\n      <td>NaN</td>\n      <td>NaN</td>\n    </tr>\n    <tr>\n      <th>1</th>\n      <td>2010-01-02</td>\n      <td>3.4</td>\n      <td>4.7</td>\n      <td>22.2</td>\n      <td>8.15</td>\n      <td>29.93</td>\n      <td>93.0</td>\n      <td>NaN</td>\n      <td>NaN</td>\n      <td>NaN</td>\n      <td>NaN</td>\n      <td>NaN</td>\n      <td>NaN</td>\n      <td>NaN</td>\n    </tr>\n    <tr>\n      <th>2</th>\n      <td>2010-01-03</td>\n      <td>7.6</td>\n      <td>3.5</td>\n      <td>21.2</td>\n      <td>9.20</td>\n      <td>29.96</td>\n      <td>94.0</td>\n      <td>NaN</td>\n      <td>NaN</td>\n      <td>NaN</td>\n      <td>NaN</td>\n      <td>NaN</td>\n      <td>NaN</td>\n      <td>NaN</td>\n    </tr>\n    <tr>\n      <th>3</th>\n      <td>2010-01-04</td>\n      <td>0.0</td>\n      <td>9.3</td>\n      <td>21.9</td>\n      <td>6.77</td>\n      <td>29.86</td>\n      <td>87.0</td>\n      <td>NaN</td>\n      <td>NaN</td>\n      <td>NaN</td>\n      <td>NaN</td>\n      <td>NaN</td>\n      <td>NaN</td>\n      <td>NaN</td>\n    </tr>\n    <tr>\n      <th>4</th>\n      <td>2010-01-05</td>\n      <td>0.5</td>\n      <td>10.0</td>\n      <td>22.8</td>\n      <td>8.32</td>\n      <td>29.82</td>\n      <td>81.0</td>\n      <td>NaN</td>\n      <td>NaN</td>\n      <td>NaN</td>\n      <td>NaN</td>\n      <td>NaN</td>\n      <td>NaN</td>\n      <td>NaN</td>\n    </tr>\n    <tr>\n      <th>...</th>\n      <td>...</td>\n      <td>...</td>\n      <td>...</td>\n      <td>...</td>\n      <td>...</td>\n      <td>...</td>\n      <td>...</td>\n      <td>...</td>\n      <td>...</td>\n      <td>...</td>\n      <td>...</td>\n      <td>...</td>\n      <td>...</td>\n      <td>...</td>\n    </tr>\n    <tr>\n      <th>5382</th>\n      <td>NaT</td>\n      <td>NaN</td>\n      <td>NaN</td>\n      <td>NaN</td>\n      <td>NaN</td>\n      <td>NaN</td>\n      <td>NaN</td>\n      <td>2024-09-26</td>\n      <td>19.0</td>\n      <td>11.0</td>\n      <td>NaN</td>\n      <td>19.0</td>\n      <td>46.0</td>\n      <td>2.0</td>\n    </tr>\n    <tr>\n      <th>5383</th>\n      <td>NaT</td>\n      <td>NaN</td>\n      <td>NaN</td>\n      <td>NaN</td>\n      <td>NaN</td>\n      <td>NaN</td>\n      <td>NaN</td>\n      <td>2024-09-27</td>\n      <td>16.0</td>\n      <td>12.0</td>\n      <td>NaN</td>\n      <td>19.0</td>\n      <td>48.0</td>\n      <td>2.0</td>\n    </tr>\n    <tr>\n      <th>5384</th>\n      <td>NaT</td>\n      <td>NaN</td>\n      <td>NaN</td>\n      <td>NaN</td>\n      <td>NaN</td>\n      <td>NaN</td>\n      <td>NaN</td>\n      <td>2024-09-28</td>\n      <td>17.0</td>\n      <td>16.0</td>\n      <td>NaN</td>\n      <td>19.0</td>\n      <td>49.0</td>\n      <td>2.0</td>\n    </tr>\n    <tr>\n      <th>5385</th>\n      <td>NaT</td>\n      <td>NaN</td>\n      <td>NaN</td>\n      <td>NaN</td>\n      <td>NaN</td>\n      <td>NaN</td>\n      <td>NaN</td>\n      <td>2024-09-29</td>\n      <td>25.0</td>\n      <td>17.0</td>\n      <td>NaN</td>\n      <td>19.0</td>\n      <td>50.0</td>\n      <td>2.0</td>\n    </tr>\n    <tr>\n      <th>5386</th>\n      <td>NaT</td>\n      <td>NaN</td>\n      <td>NaN</td>\n      <td>NaN</td>\n      <td>NaN</td>\n      <td>NaN</td>\n      <td>NaN</td>\n      <td>2024-09-30</td>\n      <td>26.0</td>\n      <td>22.0</td>\n      <td>NaN</td>\n      <td>19.0</td>\n      <td>51.0</td>\n      <td>2.0</td>\n    </tr>\n  </tbody>\n</table>\n<p>5387 rows × 14 columns</p>\n</div>"
     },
     "execution_count": 20,
     "metadata": {},
     "output_type": "execute_result"
    }
   ],
   "source": [
    "df = pd.merge(weather, air, left_on=\"date_time\", right_on=\"date\", how=\"outer\")\n",
    "df[\"date_time\"] = pd.to_datetime(df[\"date_time\"])\n",
    "df"
   ],
   "metadata": {
    "collapsed": false,
    "ExecuteTime": {
     "end_time": "2024-10-21T17:41:18.653979200Z",
     "start_time": "2024-10-21T17:41:18.623822300Z"
    }
   },
   "id": "955742af21c39a6f"
  },
  {
   "cell_type": "code",
   "execution_count": 21,
   "outputs": [
    {
     "data": {
      "text/plain": "      date_time  totalprecip_mm  avgvis_km  temp_c  wind_kph  pressure_in  \\\n0    2010-01-01             0.0        6.0    22.3      7.12        29.92   \n1    2010-01-02             3.4        4.7    22.2      8.15        29.93   \n2    2010-01-03             7.6        3.5    21.2      9.20        29.96   \n3    2010-01-04             0.0        9.3    21.9      6.77        29.86   \n4    2010-01-05             0.5       10.0    22.8      8.32        29.82   \n...         ...             ...        ...     ...       ...          ...   \n5382        NaT             NaN        NaN     NaN       NaN          NaN   \n5383        NaT             NaN        NaN     NaN       NaN          NaN   \n5384        NaT             NaN        NaN     NaN       NaN          NaN   \n5385        NaT             NaN        NaN     NaN       NaN          NaN   \n5386        NaT             NaN        NaN     NaN       NaN          NaN   \n\n      humidity        date  pm2.5  pm10  o3   no2   so2   co  \n0         88.0         NaN    NaN   NaN NaN   NaN   NaN  NaN  \n1         93.0         NaN    NaN   NaN NaN   NaN   NaN  NaN  \n2         94.0         NaN    NaN   NaN NaN   NaN   NaN  NaN  \n3         87.0         NaN    NaN   NaN NaN   NaN   NaN  NaN  \n4         81.0         NaN    NaN   NaN NaN   NaN   NaN  NaN  \n...        ...         ...    ...   ...  ..   ...   ...  ...  \n5382       NaN  2024-09-26   19.0  11.0 NaN  19.0  46.0  2.0  \n5383       NaN  2024-09-27   16.0  12.0 NaN  19.0  48.0  2.0  \n5384       NaN  2024-09-28   17.0  16.0 NaN  19.0  49.0  2.0  \n5385       NaN  2024-09-29   25.0  17.0 NaN  19.0  50.0  2.0  \n5386       NaN  2024-09-30   26.0  22.0 NaN  19.0  51.0  2.0  \n\n[5387 rows x 14 columns]",
      "text/html": "<div>\n<style scoped>\n    .dataframe tbody tr th:only-of-type {\n        vertical-align: middle;\n    }\n\n    .dataframe tbody tr th {\n        vertical-align: top;\n    }\n\n    .dataframe thead th {\n        text-align: right;\n    }\n</style>\n<table border=\"1\" class=\"dataframe\">\n  <thead>\n    <tr style=\"text-align: right;\">\n      <th></th>\n      <th>date_time</th>\n      <th>totalprecip_mm</th>\n      <th>avgvis_km</th>\n      <th>temp_c</th>\n      <th>wind_kph</th>\n      <th>pressure_in</th>\n      <th>humidity</th>\n      <th>date</th>\n      <th>pm2.5</th>\n      <th>pm10</th>\n      <th>o3</th>\n      <th>no2</th>\n      <th>so2</th>\n      <th>co</th>\n    </tr>\n  </thead>\n  <tbody>\n    <tr>\n      <th>0</th>\n      <td>2010-01-01</td>\n      <td>0.0</td>\n      <td>6.0</td>\n      <td>22.3</td>\n      <td>7.12</td>\n      <td>29.92</td>\n      <td>88.0</td>\n      <td>NaN</td>\n      <td>NaN</td>\n      <td>NaN</td>\n      <td>NaN</td>\n      <td>NaN</td>\n      <td>NaN</td>\n      <td>NaN</td>\n    </tr>\n    <tr>\n      <th>1</th>\n      <td>2010-01-02</td>\n      <td>3.4</td>\n      <td>4.7</td>\n      <td>22.2</td>\n      <td>8.15</td>\n      <td>29.93</td>\n      <td>93.0</td>\n      <td>NaN</td>\n      <td>NaN</td>\n      <td>NaN</td>\n      <td>NaN</td>\n      <td>NaN</td>\n      <td>NaN</td>\n      <td>NaN</td>\n    </tr>\n    <tr>\n      <th>2</th>\n      <td>2010-01-03</td>\n      <td>7.6</td>\n      <td>3.5</td>\n      <td>21.2</td>\n      <td>9.20</td>\n      <td>29.96</td>\n      <td>94.0</td>\n      <td>NaN</td>\n      <td>NaN</td>\n      <td>NaN</td>\n      <td>NaN</td>\n      <td>NaN</td>\n      <td>NaN</td>\n      <td>NaN</td>\n    </tr>\n    <tr>\n      <th>3</th>\n      <td>2010-01-04</td>\n      <td>0.0</td>\n      <td>9.3</td>\n      <td>21.9</td>\n      <td>6.77</td>\n      <td>29.86</td>\n      <td>87.0</td>\n      <td>NaN</td>\n      <td>NaN</td>\n      <td>NaN</td>\n      <td>NaN</td>\n      <td>NaN</td>\n      <td>NaN</td>\n      <td>NaN</td>\n    </tr>\n    <tr>\n      <th>4</th>\n      <td>2010-01-05</td>\n      <td>0.5</td>\n      <td>10.0</td>\n      <td>22.8</td>\n      <td>8.32</td>\n      <td>29.82</td>\n      <td>81.0</td>\n      <td>NaN</td>\n      <td>NaN</td>\n      <td>NaN</td>\n      <td>NaN</td>\n      <td>NaN</td>\n      <td>NaN</td>\n      <td>NaN</td>\n    </tr>\n    <tr>\n      <th>...</th>\n      <td>...</td>\n      <td>...</td>\n      <td>...</td>\n      <td>...</td>\n      <td>...</td>\n      <td>...</td>\n      <td>...</td>\n      <td>...</td>\n      <td>...</td>\n      <td>...</td>\n      <td>...</td>\n      <td>...</td>\n      <td>...</td>\n      <td>...</td>\n    </tr>\n    <tr>\n      <th>5382</th>\n      <td>NaT</td>\n      <td>NaN</td>\n      <td>NaN</td>\n      <td>NaN</td>\n      <td>NaN</td>\n      <td>NaN</td>\n      <td>NaN</td>\n      <td>2024-09-26</td>\n      <td>19.0</td>\n      <td>11.0</td>\n      <td>NaN</td>\n      <td>19.0</td>\n      <td>46.0</td>\n      <td>2.0</td>\n    </tr>\n    <tr>\n      <th>5383</th>\n      <td>NaT</td>\n      <td>NaN</td>\n      <td>NaN</td>\n      <td>NaN</td>\n      <td>NaN</td>\n      <td>NaN</td>\n      <td>NaN</td>\n      <td>2024-09-27</td>\n      <td>16.0</td>\n      <td>12.0</td>\n      <td>NaN</td>\n      <td>19.0</td>\n      <td>48.0</td>\n      <td>2.0</td>\n    </tr>\n    <tr>\n      <th>5384</th>\n      <td>NaT</td>\n      <td>NaN</td>\n      <td>NaN</td>\n      <td>NaN</td>\n      <td>NaN</td>\n      <td>NaN</td>\n      <td>NaN</td>\n      <td>2024-09-28</td>\n      <td>17.0</td>\n      <td>16.0</td>\n      <td>NaN</td>\n      <td>19.0</td>\n      <td>49.0</td>\n      <td>2.0</td>\n    </tr>\n    <tr>\n      <th>5385</th>\n      <td>NaT</td>\n      <td>NaN</td>\n      <td>NaN</td>\n      <td>NaN</td>\n      <td>NaN</td>\n      <td>NaN</td>\n      <td>NaN</td>\n      <td>2024-09-29</td>\n      <td>25.0</td>\n      <td>17.0</td>\n      <td>NaN</td>\n      <td>19.0</td>\n      <td>50.0</td>\n      <td>2.0</td>\n    </tr>\n    <tr>\n      <th>5386</th>\n      <td>NaT</td>\n      <td>NaN</td>\n      <td>NaN</td>\n      <td>NaN</td>\n      <td>NaN</td>\n      <td>NaN</td>\n      <td>NaN</td>\n      <td>2024-09-30</td>\n      <td>26.0</td>\n      <td>22.0</td>\n      <td>NaN</td>\n      <td>19.0</td>\n      <td>51.0</td>\n      <td>2.0</td>\n    </tr>\n  </tbody>\n</table>\n<p>5387 rows × 14 columns</p>\n</div>"
     },
     "execution_count": 21,
     "metadata": {},
     "output_type": "execute_result"
    }
   ],
   "source": [
    "for i, row in o3.iterrows():\n",
    "    df.loc[df[\"date_time\"] == row[\"date_time\"], \"o3\"] = row[\"O3\"]\n",
    "df"
   ],
   "metadata": {
    "collapsed": false,
    "ExecuteTime": {
     "end_time": "2024-10-21T17:41:19.170248Z",
     "start_time": "2024-10-21T17:41:19.093413500Z"
    }
   },
   "id": "7fc9ff256f6db5d5"
  },
  {
   "cell_type": "code",
   "execution_count": 22,
   "outputs": [
    {
     "data": {
      "text/plain": "     date_time  totalprecip_mm  avgvis_km  temp_c  wind_kph  pressure_in  \\\n5382       NaT             NaN        NaN     NaN       NaN          NaN   \n5383       NaT             NaN        NaN     NaN       NaN          NaN   \n5384       NaT             NaN        NaN     NaN       NaN          NaN   \n5385       NaT             NaN        NaN     NaN       NaN          NaN   \n5386       NaT             NaN        NaN     NaN       NaN          NaN   \n\n      humidity        date  pm2.5  pm10  o3   no2   so2   co  \n5382       NaN  2024-09-26   19.0  11.0 NaN  19.0  46.0  2.0  \n5383       NaN  2024-09-27   16.0  12.0 NaN  19.0  48.0  2.0  \n5384       NaN  2024-09-28   17.0  16.0 NaN  19.0  49.0  2.0  \n5385       NaN  2024-09-29   25.0  17.0 NaN  19.0  50.0  2.0  \n5386       NaN  2024-09-30   26.0  22.0 NaN  19.0  51.0  2.0  ",
      "text/html": "<div>\n<style scoped>\n    .dataframe tbody tr th:only-of-type {\n        vertical-align: middle;\n    }\n\n    .dataframe tbody tr th {\n        vertical-align: top;\n    }\n\n    .dataframe thead th {\n        text-align: right;\n    }\n</style>\n<table border=\"1\" class=\"dataframe\">\n  <thead>\n    <tr style=\"text-align: right;\">\n      <th></th>\n      <th>date_time</th>\n      <th>totalprecip_mm</th>\n      <th>avgvis_km</th>\n      <th>temp_c</th>\n      <th>wind_kph</th>\n      <th>pressure_in</th>\n      <th>humidity</th>\n      <th>date</th>\n      <th>pm2.5</th>\n      <th>pm10</th>\n      <th>o3</th>\n      <th>no2</th>\n      <th>so2</th>\n      <th>co</th>\n    </tr>\n  </thead>\n  <tbody>\n    <tr>\n      <th>5382</th>\n      <td>NaT</td>\n      <td>NaN</td>\n      <td>NaN</td>\n      <td>NaN</td>\n      <td>NaN</td>\n      <td>NaN</td>\n      <td>NaN</td>\n      <td>2024-09-26</td>\n      <td>19.0</td>\n      <td>11.0</td>\n      <td>NaN</td>\n      <td>19.0</td>\n      <td>46.0</td>\n      <td>2.0</td>\n    </tr>\n    <tr>\n      <th>5383</th>\n      <td>NaT</td>\n      <td>NaN</td>\n      <td>NaN</td>\n      <td>NaN</td>\n      <td>NaN</td>\n      <td>NaN</td>\n      <td>NaN</td>\n      <td>2024-09-27</td>\n      <td>16.0</td>\n      <td>12.0</td>\n      <td>NaN</td>\n      <td>19.0</td>\n      <td>48.0</td>\n      <td>2.0</td>\n    </tr>\n    <tr>\n      <th>5384</th>\n      <td>NaT</td>\n      <td>NaN</td>\n      <td>NaN</td>\n      <td>NaN</td>\n      <td>NaN</td>\n      <td>NaN</td>\n      <td>NaN</td>\n      <td>2024-09-28</td>\n      <td>17.0</td>\n      <td>16.0</td>\n      <td>NaN</td>\n      <td>19.0</td>\n      <td>49.0</td>\n      <td>2.0</td>\n    </tr>\n    <tr>\n      <th>5385</th>\n      <td>NaT</td>\n      <td>NaN</td>\n      <td>NaN</td>\n      <td>NaN</td>\n      <td>NaN</td>\n      <td>NaN</td>\n      <td>NaN</td>\n      <td>2024-09-29</td>\n      <td>25.0</td>\n      <td>17.0</td>\n      <td>NaN</td>\n      <td>19.0</td>\n      <td>50.0</td>\n      <td>2.0</td>\n    </tr>\n    <tr>\n      <th>5386</th>\n      <td>NaT</td>\n      <td>NaN</td>\n      <td>NaN</td>\n      <td>NaN</td>\n      <td>NaN</td>\n      <td>NaN</td>\n      <td>NaN</td>\n      <td>2024-09-30</td>\n      <td>26.0</td>\n      <td>22.0</td>\n      <td>NaN</td>\n      <td>19.0</td>\n      <td>51.0</td>\n      <td>2.0</td>\n    </tr>\n  </tbody>\n</table>\n</div>"
     },
     "execution_count": 22,
     "metadata": {},
     "output_type": "execute_result"
    }
   ],
   "source": [
    "df.tail(5)"
   ],
   "metadata": {
    "collapsed": false,
    "ExecuteTime": {
     "end_time": "2024-10-21T17:41:19.645542800Z",
     "start_time": "2024-10-21T17:41:19.621372800Z"
    }
   },
   "id": "89e1df932009ac4d"
  },
  {
   "cell_type": "code",
   "execution_count": 23,
   "outputs": [
    {
     "data": {
      "text/plain": "   date_time  totalprecip_mm  avgvis_km  temp_c  wind_kph  pressure_in  \\\n0 2010-01-01             0.0        6.0    22.3      7.12        29.92   \n1 2010-01-02             3.4        4.7    22.2      8.15        29.93   \n2 2010-01-03             7.6        3.5    21.2      9.20        29.96   \n3 2010-01-04             0.0        9.3    21.9      6.77        29.86   \n4 2010-01-05             0.5       10.0    22.8      8.32        29.82   \n\n   humidity  pm2.5  pm10  o3  no2  so2  co  \n0      88.0    NaN   NaN NaN  NaN  NaN NaN  \n1      93.0    NaN   NaN NaN  NaN  NaN NaN  \n2      94.0    NaN   NaN NaN  NaN  NaN NaN  \n3      87.0    NaN   NaN NaN  NaN  NaN NaN  \n4      81.0    NaN   NaN NaN  NaN  NaN NaN  ",
      "text/html": "<div>\n<style scoped>\n    .dataframe tbody tr th:only-of-type {\n        vertical-align: middle;\n    }\n\n    .dataframe tbody tr th {\n        vertical-align: top;\n    }\n\n    .dataframe thead th {\n        text-align: right;\n    }\n</style>\n<table border=\"1\" class=\"dataframe\">\n  <thead>\n    <tr style=\"text-align: right;\">\n      <th></th>\n      <th>date_time</th>\n      <th>totalprecip_mm</th>\n      <th>avgvis_km</th>\n      <th>temp_c</th>\n      <th>wind_kph</th>\n      <th>pressure_in</th>\n      <th>humidity</th>\n      <th>pm2.5</th>\n      <th>pm10</th>\n      <th>o3</th>\n      <th>no2</th>\n      <th>so2</th>\n      <th>co</th>\n    </tr>\n  </thead>\n  <tbody>\n    <tr>\n      <th>0</th>\n      <td>2010-01-01</td>\n      <td>0.0</td>\n      <td>6.0</td>\n      <td>22.3</td>\n      <td>7.12</td>\n      <td>29.92</td>\n      <td>88.0</td>\n      <td>NaN</td>\n      <td>NaN</td>\n      <td>NaN</td>\n      <td>NaN</td>\n      <td>NaN</td>\n      <td>NaN</td>\n    </tr>\n    <tr>\n      <th>1</th>\n      <td>2010-01-02</td>\n      <td>3.4</td>\n      <td>4.7</td>\n      <td>22.2</td>\n      <td>8.15</td>\n      <td>29.93</td>\n      <td>93.0</td>\n      <td>NaN</td>\n      <td>NaN</td>\n      <td>NaN</td>\n      <td>NaN</td>\n      <td>NaN</td>\n      <td>NaN</td>\n    </tr>\n    <tr>\n      <th>2</th>\n      <td>2010-01-03</td>\n      <td>7.6</td>\n      <td>3.5</td>\n      <td>21.2</td>\n      <td>9.20</td>\n      <td>29.96</td>\n      <td>94.0</td>\n      <td>NaN</td>\n      <td>NaN</td>\n      <td>NaN</td>\n      <td>NaN</td>\n      <td>NaN</td>\n      <td>NaN</td>\n    </tr>\n    <tr>\n      <th>3</th>\n      <td>2010-01-04</td>\n      <td>0.0</td>\n      <td>9.3</td>\n      <td>21.9</td>\n      <td>6.77</td>\n      <td>29.86</td>\n      <td>87.0</td>\n      <td>NaN</td>\n      <td>NaN</td>\n      <td>NaN</td>\n      <td>NaN</td>\n      <td>NaN</td>\n      <td>NaN</td>\n    </tr>\n    <tr>\n      <th>4</th>\n      <td>2010-01-05</td>\n      <td>0.5</td>\n      <td>10.0</td>\n      <td>22.8</td>\n      <td>8.32</td>\n      <td>29.82</td>\n      <td>81.0</td>\n      <td>NaN</td>\n      <td>NaN</td>\n      <td>NaN</td>\n      <td>NaN</td>\n      <td>NaN</td>\n      <td>NaN</td>\n    </tr>\n  </tbody>\n</table>\n</div>"
     },
     "execution_count": 23,
     "metadata": {},
     "output_type": "execute_result"
    }
   ],
   "source": [
    "df[\"date_time\"] = df[\"date_time\"].fillna(df[\"date\"])\n",
    "df = df.drop(columns=[\"date\"])\n",
    "df.head()"
   ],
   "metadata": {
    "collapsed": false,
    "ExecuteTime": {
     "end_time": "2024-10-21T17:41:20.206390400Z",
     "start_time": "2024-10-21T17:41:20.184087900Z"
    }
   },
   "id": "c7d2945df82c31d7"
  },
  {
   "cell_type": "code",
   "execution_count": 24,
   "outputs": [
    {
     "name": "stdout",
     "output_type": "stream",
     "text": [
      "<class 'pandas.core.frame.DataFrame'>\n",
      "RangeIndex: 5387 entries, 0 to 5386\n",
      "Data columns (total 13 columns):\n",
      " #   Column          Non-Null Count  Dtype         \n",
      "---  ------          --------------  -----         \n",
      " 0   date_time       5387 non-null   datetime64[ns]\n",
      " 1   totalprecip_mm  5379 non-null   float64       \n",
      " 2   avgvis_km       5379 non-null   float64       \n",
      " 3   temp_c          5379 non-null   float64       \n",
      " 4   wind_kph        5379 non-null   float64       \n",
      " 5   pressure_in     5379 non-null   float64       \n",
      " 6   humidity        5379 non-null   float64       \n",
      " 7   pm2.5           2006 non-null   float64       \n",
      " 8   pm10            2008 non-null   float64       \n",
      " 9   o3              2415 non-null   float64       \n",
      " 10  no2             2773 non-null   float64       \n",
      " 11  so2             2189 non-null   float64       \n",
      " 12  co              1951 non-null   float64       \n",
      "dtypes: datetime64[ns](1), float64(12)\n",
      "memory usage: 547.2 KB\n"
     ]
    }
   ],
   "source": [
    "df.info()"
   ],
   "metadata": {
    "collapsed": false,
    "ExecuteTime": {
     "end_time": "2024-10-21T17:41:28.274100500Z",
     "start_time": "2024-10-21T17:41:28.256821200Z"
    }
   },
   "id": "b06fc81b8523dcaa"
  },
  {
   "cell_type": "code",
   "execution_count": 25,
   "outputs": [
    {
     "data": {
      "text/plain": "      date_time  totalprecip_mm  avgvis_km  temp_c  wind_kph  pressure_in  \\\n0    2010-01-01             0.0        6.0    22.3      7.12        29.92   \n1    2010-01-02             3.4        4.7    22.2      8.15        29.93   \n2    2010-01-03             7.6        3.5    21.2      9.20        29.96   \n3    2010-01-04             0.0        9.3    21.9      6.77        29.86   \n4    2010-01-05             0.5       10.0    22.8      8.32        29.82   \n...         ...             ...        ...     ...       ...          ...   \n5382 2024-09-26             NaN        NaN     NaN       NaN          NaN   \n5383 2024-09-27             NaN        NaN     NaN       NaN          NaN   \n5384 2024-09-28             NaN        NaN     NaN       NaN          NaN   \n5385 2024-09-29             NaN        NaN     NaN       NaN          NaN   \n5386 2024-09-30             NaN        NaN     NaN       NaN          NaN   \n\n      humidity  pm2.5  pm10  o3   no2   so2   co  \n0         88.0    NaN   NaN NaN   NaN   NaN  NaN  \n1         93.0    NaN   NaN NaN   NaN   NaN  NaN  \n2         94.0    NaN   NaN NaN   NaN   NaN  NaN  \n3         87.0    NaN   NaN NaN   NaN   NaN  NaN  \n4         81.0    NaN   NaN NaN   NaN   NaN  NaN  \n...        ...    ...   ...  ..   ...   ...  ...  \n5382       NaN   19.0  11.0 NaN  19.0  46.0  2.0  \n5383       NaN   16.0  12.0 NaN  19.0  48.0  2.0  \n5384       NaN   17.0  16.0 NaN  19.0  49.0  2.0  \n5385       NaN   25.0  17.0 NaN  19.0  50.0  2.0  \n5386       NaN   26.0  22.0 NaN  19.0  51.0  2.0  \n\n[5387 rows x 13 columns]",
      "text/html": "<div>\n<style scoped>\n    .dataframe tbody tr th:only-of-type {\n        vertical-align: middle;\n    }\n\n    .dataframe tbody tr th {\n        vertical-align: top;\n    }\n\n    .dataframe thead th {\n        text-align: right;\n    }\n</style>\n<table border=\"1\" class=\"dataframe\">\n  <thead>\n    <tr style=\"text-align: right;\">\n      <th></th>\n      <th>date_time</th>\n      <th>totalprecip_mm</th>\n      <th>avgvis_km</th>\n      <th>temp_c</th>\n      <th>wind_kph</th>\n      <th>pressure_in</th>\n      <th>humidity</th>\n      <th>pm2.5</th>\n      <th>pm10</th>\n      <th>o3</th>\n      <th>no2</th>\n      <th>so2</th>\n      <th>co</th>\n    </tr>\n  </thead>\n  <tbody>\n    <tr>\n      <th>0</th>\n      <td>2010-01-01</td>\n      <td>0.0</td>\n      <td>6.0</td>\n      <td>22.3</td>\n      <td>7.12</td>\n      <td>29.92</td>\n      <td>88.0</td>\n      <td>NaN</td>\n      <td>NaN</td>\n      <td>NaN</td>\n      <td>NaN</td>\n      <td>NaN</td>\n      <td>NaN</td>\n    </tr>\n    <tr>\n      <th>1</th>\n      <td>2010-01-02</td>\n      <td>3.4</td>\n      <td>4.7</td>\n      <td>22.2</td>\n      <td>8.15</td>\n      <td>29.93</td>\n      <td>93.0</td>\n      <td>NaN</td>\n      <td>NaN</td>\n      <td>NaN</td>\n      <td>NaN</td>\n      <td>NaN</td>\n      <td>NaN</td>\n    </tr>\n    <tr>\n      <th>2</th>\n      <td>2010-01-03</td>\n      <td>7.6</td>\n      <td>3.5</td>\n      <td>21.2</td>\n      <td>9.20</td>\n      <td>29.96</td>\n      <td>94.0</td>\n      <td>NaN</td>\n      <td>NaN</td>\n      <td>NaN</td>\n      <td>NaN</td>\n      <td>NaN</td>\n      <td>NaN</td>\n    </tr>\n    <tr>\n      <th>3</th>\n      <td>2010-01-04</td>\n      <td>0.0</td>\n      <td>9.3</td>\n      <td>21.9</td>\n      <td>6.77</td>\n      <td>29.86</td>\n      <td>87.0</td>\n      <td>NaN</td>\n      <td>NaN</td>\n      <td>NaN</td>\n      <td>NaN</td>\n      <td>NaN</td>\n      <td>NaN</td>\n    </tr>\n    <tr>\n      <th>4</th>\n      <td>2010-01-05</td>\n      <td>0.5</td>\n      <td>10.0</td>\n      <td>22.8</td>\n      <td>8.32</td>\n      <td>29.82</td>\n      <td>81.0</td>\n      <td>NaN</td>\n      <td>NaN</td>\n      <td>NaN</td>\n      <td>NaN</td>\n      <td>NaN</td>\n      <td>NaN</td>\n    </tr>\n    <tr>\n      <th>...</th>\n      <td>...</td>\n      <td>...</td>\n      <td>...</td>\n      <td>...</td>\n      <td>...</td>\n      <td>...</td>\n      <td>...</td>\n      <td>...</td>\n      <td>...</td>\n      <td>...</td>\n      <td>...</td>\n      <td>...</td>\n      <td>...</td>\n    </tr>\n    <tr>\n      <th>5382</th>\n      <td>2024-09-26</td>\n      <td>NaN</td>\n      <td>NaN</td>\n      <td>NaN</td>\n      <td>NaN</td>\n      <td>NaN</td>\n      <td>NaN</td>\n      <td>19.0</td>\n      <td>11.0</td>\n      <td>NaN</td>\n      <td>19.0</td>\n      <td>46.0</td>\n      <td>2.0</td>\n    </tr>\n    <tr>\n      <th>5383</th>\n      <td>2024-09-27</td>\n      <td>NaN</td>\n      <td>NaN</td>\n      <td>NaN</td>\n      <td>NaN</td>\n      <td>NaN</td>\n      <td>NaN</td>\n      <td>16.0</td>\n      <td>12.0</td>\n      <td>NaN</td>\n      <td>19.0</td>\n      <td>48.0</td>\n      <td>2.0</td>\n    </tr>\n    <tr>\n      <th>5384</th>\n      <td>2024-09-28</td>\n      <td>NaN</td>\n      <td>NaN</td>\n      <td>NaN</td>\n      <td>NaN</td>\n      <td>NaN</td>\n      <td>NaN</td>\n      <td>17.0</td>\n      <td>16.0</td>\n      <td>NaN</td>\n      <td>19.0</td>\n      <td>49.0</td>\n      <td>2.0</td>\n    </tr>\n    <tr>\n      <th>5385</th>\n      <td>2024-09-29</td>\n      <td>NaN</td>\n      <td>NaN</td>\n      <td>NaN</td>\n      <td>NaN</td>\n      <td>NaN</td>\n      <td>NaN</td>\n      <td>25.0</td>\n      <td>17.0</td>\n      <td>NaN</td>\n      <td>19.0</td>\n      <td>50.0</td>\n      <td>2.0</td>\n    </tr>\n    <tr>\n      <th>5386</th>\n      <td>2024-09-30</td>\n      <td>NaN</td>\n      <td>NaN</td>\n      <td>NaN</td>\n      <td>NaN</td>\n      <td>NaN</td>\n      <td>NaN</td>\n      <td>26.0</td>\n      <td>22.0</td>\n      <td>NaN</td>\n      <td>19.0</td>\n      <td>51.0</td>\n      <td>2.0</td>\n    </tr>\n  </tbody>\n</table>\n<p>5387 rows × 13 columns</p>\n</div>"
     },
     "execution_count": 25,
     "metadata": {},
     "output_type": "execute_result"
    }
   ],
   "source": [
    "df = df.astype({\n",
    "  \"totalprecip_mm\": float,\n",
    "  \"avgvis_km\": float,\n",
    "  \"temp_c\": float, \n",
    "  \"wind_kph\": float, \n",
    "  \"pressure_in\": float, \n",
    "  \"humidity\": float, \n",
    "  \"pm2.5\": float, \n",
    "  \"pm10\": float, \n",
    "  \"o3\": float, \n",
    "  \"no2\": float, \n",
    "  \"so2\": float, \n",
    "  \"co\": float})\n",
    "df"
   ],
   "metadata": {
    "collapsed": false,
    "ExecuteTime": {
     "end_time": "2024-10-21T17:41:29.981178500Z",
     "start_time": "2024-10-21T17:41:29.942079900Z"
    }
   },
   "id": "f8e9ef74428a49f2"
  },
  {
   "cell_type": "code",
   "execution_count": 26,
   "outputs": [
    {
     "data": {
      "text/plain": "      date_time totalprecip_mm avgvis_km temp_c wind_kph pressure_in humidity  \\\n0    2010-01-01            0.0       6.0   22.3     7.12       29.92     88.0   \n1    2010-01-02            3.4       4.7   22.2     8.15       29.93     93.0   \n2    2010-01-03            7.6       3.5   21.2      9.2       29.96     94.0   \n3    2010-01-04            0.0       9.3   21.9     6.77       29.86     87.0   \n4    2010-01-05            0.5      10.0   22.8     8.32       29.82     81.0   \n...         ...            ...       ...    ...      ...         ...      ...   \n5382 2024-09-26           None      None   None     None        None     None   \n5383 2024-09-27           None      None   None     None        None     None   \n5384 2024-09-28           None      None   None     None        None     None   \n5385 2024-09-29           None      None   None     None        None     None   \n5386 2024-09-30           None      None   None     None        None     None   \n\n     pm2.5  pm10    o3   no2   so2    co  \n0     None  None  None  None  None  None  \n1     None  None  None  None  None  None  \n2     None  None  None  None  None  None  \n3     None  None  None  None  None  None  \n4     None  None  None  None  None  None  \n...    ...   ...   ...   ...   ...   ...  \n5382  19.0  11.0  None  19.0  46.0   2.0  \n5383  16.0  12.0  None  19.0  48.0   2.0  \n5384  17.0  16.0  None  19.0  49.0   2.0  \n5385  25.0  17.0  None  19.0  50.0   2.0  \n5386  26.0  22.0  None  19.0  51.0   2.0  \n\n[5387 rows x 13 columns]",
      "text/html": "<div>\n<style scoped>\n    .dataframe tbody tr th:only-of-type {\n        vertical-align: middle;\n    }\n\n    .dataframe tbody tr th {\n        vertical-align: top;\n    }\n\n    .dataframe thead th {\n        text-align: right;\n    }\n</style>\n<table border=\"1\" class=\"dataframe\">\n  <thead>\n    <tr style=\"text-align: right;\">\n      <th></th>\n      <th>date_time</th>\n      <th>totalprecip_mm</th>\n      <th>avgvis_km</th>\n      <th>temp_c</th>\n      <th>wind_kph</th>\n      <th>pressure_in</th>\n      <th>humidity</th>\n      <th>pm2.5</th>\n      <th>pm10</th>\n      <th>o3</th>\n      <th>no2</th>\n      <th>so2</th>\n      <th>co</th>\n    </tr>\n  </thead>\n  <tbody>\n    <tr>\n      <th>0</th>\n      <td>2010-01-01</td>\n      <td>0.0</td>\n      <td>6.0</td>\n      <td>22.3</td>\n      <td>7.12</td>\n      <td>29.92</td>\n      <td>88.0</td>\n      <td>None</td>\n      <td>None</td>\n      <td>None</td>\n      <td>None</td>\n      <td>None</td>\n      <td>None</td>\n    </tr>\n    <tr>\n      <th>1</th>\n      <td>2010-01-02</td>\n      <td>3.4</td>\n      <td>4.7</td>\n      <td>22.2</td>\n      <td>8.15</td>\n      <td>29.93</td>\n      <td>93.0</td>\n      <td>None</td>\n      <td>None</td>\n      <td>None</td>\n      <td>None</td>\n      <td>None</td>\n      <td>None</td>\n    </tr>\n    <tr>\n      <th>2</th>\n      <td>2010-01-03</td>\n      <td>7.6</td>\n      <td>3.5</td>\n      <td>21.2</td>\n      <td>9.2</td>\n      <td>29.96</td>\n      <td>94.0</td>\n      <td>None</td>\n      <td>None</td>\n      <td>None</td>\n      <td>None</td>\n      <td>None</td>\n      <td>None</td>\n    </tr>\n    <tr>\n      <th>3</th>\n      <td>2010-01-04</td>\n      <td>0.0</td>\n      <td>9.3</td>\n      <td>21.9</td>\n      <td>6.77</td>\n      <td>29.86</td>\n      <td>87.0</td>\n      <td>None</td>\n      <td>None</td>\n      <td>None</td>\n      <td>None</td>\n      <td>None</td>\n      <td>None</td>\n    </tr>\n    <tr>\n      <th>4</th>\n      <td>2010-01-05</td>\n      <td>0.5</td>\n      <td>10.0</td>\n      <td>22.8</td>\n      <td>8.32</td>\n      <td>29.82</td>\n      <td>81.0</td>\n      <td>None</td>\n      <td>None</td>\n      <td>None</td>\n      <td>None</td>\n      <td>None</td>\n      <td>None</td>\n    </tr>\n    <tr>\n      <th>...</th>\n      <td>...</td>\n      <td>...</td>\n      <td>...</td>\n      <td>...</td>\n      <td>...</td>\n      <td>...</td>\n      <td>...</td>\n      <td>...</td>\n      <td>...</td>\n      <td>...</td>\n      <td>...</td>\n      <td>...</td>\n      <td>...</td>\n    </tr>\n    <tr>\n      <th>5382</th>\n      <td>2024-09-26</td>\n      <td>None</td>\n      <td>None</td>\n      <td>None</td>\n      <td>None</td>\n      <td>None</td>\n      <td>None</td>\n      <td>19.0</td>\n      <td>11.0</td>\n      <td>None</td>\n      <td>19.0</td>\n      <td>46.0</td>\n      <td>2.0</td>\n    </tr>\n    <tr>\n      <th>5383</th>\n      <td>2024-09-27</td>\n      <td>None</td>\n      <td>None</td>\n      <td>None</td>\n      <td>None</td>\n      <td>None</td>\n      <td>None</td>\n      <td>16.0</td>\n      <td>12.0</td>\n      <td>None</td>\n      <td>19.0</td>\n      <td>48.0</td>\n      <td>2.0</td>\n    </tr>\n    <tr>\n      <th>5384</th>\n      <td>2024-09-28</td>\n      <td>None</td>\n      <td>None</td>\n      <td>None</td>\n      <td>None</td>\n      <td>None</td>\n      <td>None</td>\n      <td>17.0</td>\n      <td>16.0</td>\n      <td>None</td>\n      <td>19.0</td>\n      <td>49.0</td>\n      <td>2.0</td>\n    </tr>\n    <tr>\n      <th>5385</th>\n      <td>2024-09-29</td>\n      <td>None</td>\n      <td>None</td>\n      <td>None</td>\n      <td>None</td>\n      <td>None</td>\n      <td>None</td>\n      <td>25.0</td>\n      <td>17.0</td>\n      <td>None</td>\n      <td>19.0</td>\n      <td>50.0</td>\n      <td>2.0</td>\n    </tr>\n    <tr>\n      <th>5386</th>\n      <td>2024-09-30</td>\n      <td>None</td>\n      <td>None</td>\n      <td>None</td>\n      <td>None</td>\n      <td>None</td>\n      <td>None</td>\n      <td>26.0</td>\n      <td>22.0</td>\n      <td>None</td>\n      <td>19.0</td>\n      <td>51.0</td>\n      <td>2.0</td>\n    </tr>\n  </tbody>\n</table>\n<p>5387 rows × 13 columns</p>\n</div>"
     },
     "execution_count": 26,
     "metadata": {},
     "output_type": "execute_result"
    }
   ],
   "source": [
    "df = df.replace({np.nan: None})\n",
    "df"
   ],
   "metadata": {
    "collapsed": false,
    "ExecuteTime": {
     "end_time": "2024-10-21T17:41:46.687191100Z",
     "start_time": "2024-10-21T17:41:46.657114Z"
    }
   },
   "id": "cef79013ebabdf55"
  },
  {
   "cell_type": "code",
   "execution_count": 27,
   "outputs": [],
   "source": [
    "timeout = 10\n",
    "\n",
    "connection = pymysql.connect(\n",
    "  charset=\"utf8mb4\",\n",
    "  connect_timeout=timeout,\n",
    "  cursorclass=pymysql.cursors.DictCursor,\n",
    "  db=\"WEATHER-AIR-POLLUTION\",\n",
    "  host=\"mysql-3cafd5ec-weather-air-pollution.e.aivencloud.com\",\n",
    "  password=\"*********************************************\",\n",
    "  read_timeout=timeout,\n",
    "  port=24379,\n",
    "  user=\"avnadmin\",\n",
    "  write_timeout=timeout,\n",
    ")\n"
   ],
   "metadata": {
    "collapsed": false,
    "ExecuteTime": {
     "end_time": "2024-10-21T17:41:48.596574800Z",
     "start_time": "2024-10-21T17:41:48.039279300Z"
    }
   },
   "id": "e69f30746743d1be"
  },
  {
   "cell_type": "code",
   "execution_count": 28,
   "outputs": [
    {
     "data": {
      "text/plain": "0"
     },
     "execution_count": 28,
     "metadata": {},
     "output_type": "execute_result"
    }
   ],
   "source": [
    "cur = connection.cursor()\n",
    "cur.execute(\"\"\"CREATE TABLE IF NOT EXISTS Weather_Air (\n",
    "                date_time DATE PRIMARY KEY,\n",
    "                totalprecip_mm FLOAT NULL,\n",
    "                avgvis_km FLOAT NULL,\n",
    "                temp_c FLOAT NULL,\n",
    "                wind_kph FLOAT NULL,\n",
    "                pressure_in FLOAT NULL,\n",
    "                humidity FLOAT NULL,\n",
    "                pm2_5 FLOAT NULL,\n",
    "                pm10 FLOAT NULL,\n",
    "                o3 FLOAT NULL,\n",
    "                no2 FLOAT NULL,\n",
    "                so2 FLOAT NULL,\n",
    "                co FLOAT NULL\n",
    "                )\"\"\")"
   ],
   "metadata": {
    "collapsed": false,
    "ExecuteTime": {
     "end_time": "2024-10-21T17:41:56.111436500Z",
     "start_time": "2024-10-21T17:41:55.873723300Z"
    }
   },
   "id": "30efc91f9f66777c"
  },
  {
   "cell_type": "code",
   "execution_count": 29,
   "outputs": [],
   "source": [
    "query = \"\"\"INSERT INTO Weather_Air (date_time, totalprecip_mm, avgvis_km, temp_c, wind_kph, pressure_in, humidity, pm2_5, pm10, o3, no2, so2, co) VALUES (%s, %s, %s, %s, %s, %s, %s, %s, %s, %s, %s, %s, %s)\"\"\"\n",
    "data = [tuple(x) for x in df.values]\n",
    "cur.executemany(query, data)\n",
    "connection.commit()"
   ],
   "metadata": {
    "collapsed": false,
    "ExecuteTime": {
     "end_time": "2024-10-21T17:53:12.319060200Z",
     "start_time": "2024-10-21T17:53:11.301190500Z"
    }
   },
   "id": "791918c06e09d6c4"
  },
  {
   "cell_type": "code",
   "execution_count": 30,
   "outputs": [],
   "source": [
    "cur.close()\n",
    "connection.close()"
   ],
   "metadata": {
    "collapsed": false,
    "ExecuteTime": {
     "end_time": "2024-10-21T17:53:35.367271400Z",
     "start_time": "2024-10-21T17:53:35.347029800Z"
    }
   },
   "id": "33dd57b40208d4e8"
  },
  {
   "cell_type": "markdown",
   "source": [],
   "metadata": {
    "collapsed": false
   },
   "id": "aa4ebc96b429fecf"
  }
 ],
 "metadata": {
  "kernelspec": {
   "display_name": "Python 3",
   "language": "python",
   "name": "python3"
  },
  "language_info": {
   "codemirror_mode": {
    "name": "ipython",
    "version": 2
   },
   "file_extension": ".py",
   "mimetype": "text/x-python",
   "name": "python",
   "nbconvert_exporter": "python",
   "pygments_lexer": "ipython2",
   "version": "2.7.6"
  }
 },
 "nbformat": 4,
 "nbformat_minor": 5
}
